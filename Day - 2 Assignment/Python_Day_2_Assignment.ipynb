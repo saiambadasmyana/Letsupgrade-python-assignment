{
  "nbformat": 4,
  "nbformat_minor": 0,
  "metadata": {
    "colab": {
      "name": "Python Day-2 Assignment.ipynb",
      "provenance": [],
      "collapsed_sections": []
    },
    "kernelspec": {
      "name": "python3",
      "display_name": "Python 3"
    }
  },
  "cells": [
    {
      "cell_type": "markdown",
      "metadata": {
        "id": "cDKJCwcZSkib",
        "colab_type": "text"
      },
      "source": [
        "# List"
      ]
    },
    {
      "cell_type": "code",
      "metadata": {
        "id": "kMYfNFKiHXw7",
        "colab_type": "code",
        "colab": {
          "base_uri": "https://localhost:8080/",
          "height": 121
        },
        "outputId": "8984aee8-6753-41fd-f2ca-f8567d624dcf"
      },
      "source": [
        "list1= [\"one\",2,\"three\",4,\"five\"]\n",
        "list1.append(6) #append() adds the obj passed to list\n",
        "print (list1)\n",
        "list2=[\"seven\",8]\n",
        "list1.extend(list2) #extend() is used to append other list to existing list\n",
        "print(list1)\n",
        "list1.reverse() #reverse the elements of list\n",
        "print(list1)\n",
        "list1.remove(8) #removes the obj we have passed\n",
        "print(list1)\n",
        "print(list1.index(6)) #return index value of passed obj\n",
        "print(len(list1)) #Returns the number of items in the list"
      ],
      "execution_count": null,
      "outputs": [
        {
          "output_type": "stream",
          "text": [
            "['one', 2, 'three', 4, 'five', 6]\n",
            "['one', 2, 'three', 4, 'five', 6, 'seven', 8]\n",
            "[8, 'seven', 6, 'five', 4, 'three', 2, 'one']\n",
            "['seven', 6, 'five', 4, 'three', 2, 'one']\n",
            "1\n",
            "7\n"
          ],
          "name": "stdout"
        }
      ]
    },
    {
      "cell_type": "markdown",
      "metadata": {
        "id": "e4o15bT_SqwB",
        "colab_type": "text"
      },
      "source": [
        "# Dictionary"
      ]
    },
    {
      "cell_type": "code",
      "metadata": {
        "id": "-fgsxTgaSvca",
        "colab_type": "code",
        "colab": {
          "base_uri": "https://localhost:8080/",
          "height": 103
        },
        "outputId": "74b37706-e013-47db-bddd-e96b95173506"
      },
      "source": [
        "dictn= {\"name\":\"sai\",\"age\":22,\"number\":9876543210}\n",
        "dictn1= {\"gender\":\"male\"}\n",
        "print(len(dictn))# returns length of dictionary\n",
        "print(dictn.items())# returns all items in dictionary\n",
        "print(dictn.keys())# return all key in dictionary\n",
        "print(dictn.values())# return all values in dictionary\n",
        "dictn.update(dictn1)# adds one dictionary to another dictionary\n",
        "print(dictn)"
      ],
      "execution_count": null,
      "outputs": [
        {
          "output_type": "stream",
          "text": [
            "3\n",
            "dict_items([('name', 'sai'), ('age', 22), ('number', 9876543210)])\n",
            "dict_keys(['name', 'age', 'number'])\n",
            "dict_values(['sai', 22, 9876543210])\n",
            "{'name': 'sai', 'age': 22, 'number': 9876543210, 'gender': 'male'}\n"
          ],
          "name": "stdout"
        }
      ]
    },
    {
      "cell_type": "markdown",
      "metadata": {
        "id": "am6iX5QAYac3",
        "colab_type": "text"
      },
      "source": [
        "# Sets"
      ]
    },
    {
      "cell_type": "code",
      "metadata": {
        "id": "udEQDF58Ya59",
        "colab_type": "code",
        "colab": {
          "base_uri": "https://localhost:8080/",
          "height": 212
        },
        "outputId": "cc3087c5-60ef-4b91-f19c-ae7d9d4053bd"
      },
      "source": [
        "set1={\"BMW\",\"FORD\",\"MARUTISUZUJI\",\"TATA\",\"HUNDAI\"}\n",
        "set1.add(\"HONDA\") #used to add object to existing set\n",
        "print(set1)\n",
        "set2= set1.copy() #used to make multiple copies of existing set\n",
        "print(set2)\n",
        "set3={\"KIA\",\"MG\",\"HONDA\",\"FORD\"}\n",
        "print(set1.difference(set3)) #prints uncommon objects in set\n",
        "set1.pop() # removes an object randomly\n",
        "print(set1)\n",
        "set1.remove(\"TATA\") # removes specified object from set\n",
        "print(set1)"
      ],
      "execution_count": null,
      "outputs": [
        {
          "output_type": "stream",
          "text": [
            "{'FORD', 'BMW', 'HUNDAI', 'HONDA', 'MARUTISUZUJI', 'TATA'}\n",
            "{'HUNDAI', 'FORD', 'HONDA', 'MARUTISUZUJI', 'TATA', 'BMW'}\n",
            "{'HUNDAI', 'TATA', 'BMW', 'MARUTISUZUJI'}\n",
            "{'BMW', 'HUNDAI', 'HONDA', 'MARUTISUZUJI', 'TATA'}\n",
            "{'BMW', 'HUNDAI', 'HONDA', 'MARUTISUZUJI'}\n"
          ],
          "name": "stdout"
        }
      ]
    },
    {
      "cell_type": "markdown",
      "metadata": {
        "id": "wiHzXd96ZNbD",
        "colab_type": "text"
      },
      "source": [
        "# Tuple"
      ]
    },
    {
      "cell_type": "code",
      "metadata": {
        "id": "ZS-q4jUBZOw6",
        "colab_type": "code",
        "colab": {
          "base_uri": "https://localhost:8080/",
          "height": 69
        },
        "outputId": "b93aa430-6020-43cd-c791-af9b20f41338"
      },
      "source": [
        "tup =(0,1,2,2,3,4,5,6)\n",
        "print(len(tup))\n",
        "print(\"2 is repeated times\",tup.count(2)) #counts the passed obj in tuple\n",
        "print(\"index of 5 is\",tup.index(5)) #gives index of passed obj"
      ],
      "execution_count": null,
      "outputs": [
        {
          "output_type": "stream",
          "text": [
            "8\n",
            "2 is repeated times 2\n",
            "index of 5 is 6\n"
          ],
          "name": "stdout"
        }
      ]
    },
    {
      "cell_type": "markdown",
      "metadata": {
        "id": "RIp607-fHOvD",
        "colab_type": "text"
      },
      "source": [
        "# String"
      ]
    },
    {
      "cell_type": "code",
      "metadata": {
        "id": "NXHqRsrVDec1",
        "colab_type": "code",
        "colab": {
          "base_uri": "https://localhost:8080/",
          "height": 103
        },
        "outputId": "ddc20c87-ed61-43d9-b733-9e852471e41a"
      },
      "source": [
        "str = \"pythoN world\"\n",
        "print(str.capitalize()) #Capitalize first letter\n",
        "print(str.swapcase()) #Invert the case of all letters\n",
        "print(str.upper()) #Change lower case to upper case\n",
        "print(str.isdigit()) #Return true if string has only digits\n",
        "print(str.isalpha()) #Return True if there are only alphabets, else false"
      ],
      "execution_count": null,
      "outputs": [
        {
          "output_type": "stream",
          "text": [
            "Python world\n",
            "PYTHOn WORLD\n",
            "PYTHON WORLD\n",
            "False\n",
            "False\n"
          ],
          "name": "stdout"
        }
      ]
    }
  ]
}