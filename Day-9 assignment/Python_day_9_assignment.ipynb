{
  "nbformat": 4,
  "nbformat_minor": 0,
  "metadata": {
    "colab": {
      "name": "Python day-9 assignment.ipynb",
      "provenance": [],
      "collapsed_sections": []
    },
    "kernelspec": {
      "name": "python3",
      "display_name": "Python 3"
    }
  },
  "cells": [
    {
      "cell_type": "markdown",
      "metadata": {
        "id": "ZOXSmol-sqVu",
        "colab_type": "text"
      },
      "source": [
        "##Write a python Function for finding is a given number prime or not and do Unit Testing on it using\r\n",
        "PyLint and Unittest Library."
      ]
    },
    {
      "cell_type": "code",
      "metadata": {
        "id": "RTZL1rZgslF3",
        "colab_type": "code",
        "colab": {
          "base_uri": "https://localhost:8080/",
          "height": 34
        },
        "outputId": "fe40b673-8c31-46e3-aafa-eeee0d310406"
      },
      "source": [
        "%%writefile test_primeone.py\n",
        "'''\n",
        "This is a module to check weather the given number is prime or not''\n",
        "'''\n",
        "def prime(number):\n",
        "    '''\n",
        "    This is the main function which check out the given number is prime or not.\n",
        "    '''\n",
        "    if number>1:\n",
        "        for i in range(2, number):\n",
        "            if number % i == 0:\n",
        "                return \"not a prime\"\n",
        "        return \"it's a prime\"\n",
        "        "
      ],
      "execution_count": 131,
      "outputs": [
        {
          "output_type": "stream",
          "text": [
            "Overwriting test_primeone.py\n"
          ],
          "name": "stdout"
        }
      ]
    },
    {
      "cell_type": "code",
      "metadata": {
        "id": "Poj2mBYX-GVX",
        "colab_type": "code",
        "colab": {
          "base_uri": "https://localhost:8080/",
          "height": 247
        },
        "outputId": "9583c9f7-3f6e-47a5-8b5c-946b397a1e3a"
      },
      "source": [
        "! pylint \"test_primeone.py\""
      ],
      "execution_count": 132,
      "outputs": [
        {
          "output_type": "stream",
          "text": [
            "************* Module test_primeone\n",
            "test_primeone.py:4:0: R1710: Either all return statements in a function should return an expression, or none of them should. (inconsistent-return-statements)\n",
            "\n",
            "------------------------------------------------------------------\n",
            "Your code has been rated at 8.33/10 (previous run: 6.67/10, +1.67)\n",
            "\n"
          ],
          "name": "stdout"
        }
      ]
    },
    {
      "cell_type": "code",
      "metadata": {
        "id": "MTW6CFUFwLGe",
        "colab_type": "code",
        "colab": {
          "base_uri": "https://localhost:8080/",
          "height": 34
        },
        "outputId": "52bf976c-4254-4069-9981-a34883a4c4d2"
      },
      "source": [
        "%%writefile testing1.py\n",
        " \n",
        "import unittest\n",
        "import test_primeone\n",
        " \n",
        "class Flower(unittest.TestCase):\n",
        "    \n",
        "    def test_jasmine(self):\n",
        "        n=10\n",
        "        num=test_primeone.prime(n)\n",
        "        self.assertEqual(num,\"not a prime\")\n",
        "        \n",
        "if __name__ == \"__main__\":\n",
        "    unittest.main()"
      ],
      "execution_count": null,
      "outputs": [
        {
          "output_type": "stream",
          "text": [
            "Overwriting testing1.py\n"
          ],
          "name": "stdout"
        }
      ]
    },
    {
      "cell_type": "code",
      "metadata": {
        "id": "iIqWI8oo8s_P",
        "colab_type": "code",
        "colab": {
          "base_uri": "https://localhost:8080/",
          "height": 123
        },
        "outputId": "a487586a-de2c-4c34-c11a-9985d73d9877"
      },
      "source": [
        "! python testing1.py"
      ],
      "execution_count": null,
      "outputs": [
        {
          "output_type": "stream",
          "text": [
            ".\n",
            "----------------------------------------------------------------------\n",
            "Ran 1 test in 0.000s\n",
            "\n",
            "OK\n"
          ],
          "name": "stdout"
        }
      ]
    },
    {
      "cell_type": "markdown",
      "metadata": {
        "id": "67JfjZZgPByl",
        "colab_type": "text"
      },
      "source": [
        "##Make a small generator program for returning armstrong numbers in between 1-1000 in a\n",
        "generator object."
      ]
    },
    {
      "cell_type": "code",
      "metadata": {
        "id": "LCne8d__PDtk",
        "colab_type": "code",
        "colab": {}
      },
      "source": [
        "def Armstrong(lst):\n",
        "    for number in lst:\n",
        "        order=len(str(number))\n",
        "        temp=number\n",
        "        sum=0\n",
        "        while temp>0:\n",
        "            d=temp%10\n",
        "            sum=sum+d**order\n",
        "            temp=temp//10\n",
        "        if number==sum:\n",
        "            yield number"
      ],
      "execution_count": null,
      "outputs": []
    },
    {
      "cell_type": "code",
      "metadata": {
        "id": "62mYzEIRQVjr",
        "colab_type": "code",
        "colab": {
          "base_uri": "https://localhost:8080/",
          "height": 54
        },
        "outputId": "1e2de79a-01ad-47f1-f7db-cde04f33aad7"
      },
      "source": [
        "lst = list(range(1,1001))\n",
        "print(list(Armstrong(lst)))"
      ],
      "execution_count": null,
      "outputs": [
        {
          "output_type": "stream",
          "text": [
            "[1, 2, 3, 4, 5, 6, 7, 8, 9, 153, 370, 371, 407]\n"
          ],
          "name": "stdout"
        }
      ]
    }
  ]
}